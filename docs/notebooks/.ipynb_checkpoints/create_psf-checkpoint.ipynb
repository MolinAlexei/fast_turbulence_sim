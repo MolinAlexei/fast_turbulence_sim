{
 "cells": [
  {
   "cell_type": "markdown",
   "id": "109fa4e5",
   "metadata": {},
   "source": [
    "# Creating the PSF with SIXTE"
   ]
  },
  {
   "cell_type": "markdown",
   "id": "80d8677e",
   "metadata": {},
   "source": [
    "I have struggled to use an anlytical implementation of the PSF as the documentation is sparse and does not seem to really work for some reason. I then resorted to using the PSF produced by SIXTE as output to a photon list of a perfect point source at 1 keV."
   ]
  },
  {
   "cell_type": "code",
   "execution_count": 1,
   "id": "182ffc2a",
   "metadata": {},
   "outputs": [],
   "source": [
    "import numpy as np\n",
    "import matplotlib.pyplot as plt\n",
    "from astropy.io import fits\n",
    "import cmasher as cmr"
   ]
  },
  {
   "cell_type": "markdown",
   "id": "1d910027",
   "metadata": {},
   "source": [
    "I create a photon list with all photons at 1 keV and at RA, DEC = 0"
   ]
  },
  {
   "cell_type": "code",
   "execution_count": 3,
   "id": "9a4c11d0",
   "metadata": {},
   "outputs": [],
   "source": [
    "phlist = fits.open('../../data/ph_list_for_PSF.fits')"
   ]
  },
  {
   "cell_type": "code",
   "execution_count": 8,
   "id": "939e3d1d",
   "metadata": {},
   "outputs": [
    {
     "name": "stdout",
     "output_type": "stream",
     "text": [
      "Photon energies [keV] :  [1. 1. 1. 1. 1.]\n"
     ]
    }
   ],
   "source": [
    "print('Photon energies [keV] : ',phlist[2].data['ENERGY'][:5])"
   ]
  },
  {
   "cell_type": "code",
   "execution_count": 11,
   "id": "1ed74a8c",
   "metadata": {},
   "outputs": [
    {
     "name": "stdout",
     "output_type": "stream",
     "text": [
      "Photon right ascensions [rad] :  [9.99999997e-07 9.99999997e-07 9.99999997e-07 9.99999997e-07]\n"
     ]
    }
   ],
   "source": [
    "print('Photon right ascensions [rad] : ',phlist[2].data['RA'][:4])"
   ]
  },
  {
   "cell_type": "code",
   "execution_count": 12,
   "id": "fd82a8f5",
   "metadata": {},
   "outputs": [
    {
     "name": "stdout",
     "output_type": "stream",
     "text": [
      "Photon declinations [rad] :  [9.99999997e-07 9.99999997e-07 9.99999997e-07 9.99999997e-07]\n"
     ]
    }
   ],
   "source": [
    "print('Photon declinations [rad] : ',phlist[2].data['DEC'][:4])"
   ]
  },
  {
   "cell_type": "markdown",
   "id": "14eb0d87",
   "metadata": {},
   "source": [
    "Now use `sixte` with files defining instrument"
   ]
  },
  {
   "cell_type": "code",
   "execution_count": 21,
   "id": "543e22dd",
   "metadata": {},
   "outputs": [],
   "source": [
    "std_xmlfile = '/xifu/usr/share/sixte/instruments/athena-xifu_2024_11/baseline/xifu_nofilt_infoc.xml'\n",
    "simputfile = '../../data/ph_list_for_PSF.fits'\n",
    "exposure = 1e5\n",
    "eventfile = '../../data/event_list_for_PSF.evt'"
   ]
  },
  {
   "cell_type": "code",
   "execution_count": 22,
   "id": "8fbca91c",
   "metadata": {},
   "outputs": [],
   "source": [
    "import subprocess"
   ]
  },
  {
   "cell_type": "code",
   "execution_count": 23,
   "id": "964de302",
   "metadata": {},
   "outputs": [
    {
     "name": "stdout",
     "output_type": "stream",
     "text": [
      "initialize ...\n",
      "Expected number of pixels in hexagon: 1504\n",
      "Expected number of pixels in hexagon: 1504\n",
      "Seed = 432048233\n",
      "Expected number of pixels in hexagon: 1504\n",
      "Expected number of pixels in hexagon: 1504\n",
      "***SPII_read_key: Cannot find FILTER keyword - setting it to UNKNOWN\n",
      "try to load all spectra ('../../data/ph_list_for_PSF.fits[PHLIST,1]') into cache ...\n",
      "***SPII_read_key: Cannot find FILTER keyword - setting it to UNKNOWN\n",
      "***SPII_read_key: Cannot find FILTER keyword - setting it to UNKNOWN\n",
      "***SPII_read_key: Cannot find FILTER keyword - setting it to UNKNOWN\n",
      "***SPII_read_key: Cannot find FILTER keyword - setting it to UNKNOWN\n",
      "***SPII_read_key: Cannot find FILTER keyword - setting it to UNKNOWN\n",
      "***SPII_read_key: Cannot find FILTER keyword - setting it to UNKNOWN\n",
      "***SPII_read_key: Cannot find FILTER keyword - setting it to UNKNOWN\n",
      "Number of pixels after removing overlaps: 1504\n",
      "\n",
      "\n",
      "start simulation ...\n",
      "\n",
      "0%   10   20   30   40   50   60   70   80   90   100%\n",
      "|----|----|----|----|----|----|----|----|----|----|\n",
      "***************************************************\n",
      "\n",
      "\n",
      "start sky projection ...\n",
      "\n",
      "cleaning up ...\n",
      "finished successfully!\n",
      "\n"
     ]
    },
    {
     "data": {
      "text/plain": [
       "CompletedProcess(args=['sixtesim', 'XMLFile=/xifu/usr/share/sixte/instruments/athena-xifu_2024_11/baseline/xifu_nofilt_infoc.xml', 'Background=no', 'RA=0.0', 'Dec=0.0', 'Simput=../../data/ph_list_for_PSF.fits', 'Exposure=100000', 'clobber=yes', 'EvtFile=../../data/event_list_for_PSF.evt'], returncode=0)"
      ]
     },
     "execution_count": 23,
     "metadata": {},
     "output_type": "execute_result"
    }
   ],
   "source": [
    "subprocess.run(['sixtesim',\n",
    "                  'XMLFile='+std_xmlfile,\n",
    "                  'Background=no',\n",
    "                  'RA=0.0',\n",
    "                  'Dec=0.0',\n",
    "                  'Simput='+simputfile, \n",
    "                  'Exposure=%g'%exposure,\n",
    "                  'clobber=yes',\n",
    "                  'EvtFile=%s' % eventfile])"
   ]
  },
  {
   "cell_type": "markdown",
   "id": "8022a10f",
   "metadata": {},
   "source": [
    "Convert the event list to count map"
   ]
  },
  {
   "cell_type": "code",
   "execution_count": 24,
   "id": "8f6a09c3",
   "metadata": {},
   "outputs": [],
   "source": [
    "# aminconv is a conversion parameter of pixel size in arcmin\n",
    "# This calculation is weird but inherited from Edoardo, so for consistency I use the same\n",
    "pitch=317e-4 #in cm\n",
    "NbPix=1504 #as in SIXTE\n",
    "focal=1200. #in cm\n",
    "surf=pitch**2\n",
    "Field=4*np.arcsin(np.sin(np.arctan2(pitch,2.*focal))**2)\n",
    "Fieldamin=Field*(180/np.pi*60.)**2\n",
    "aminconv=np.sqrt(Fieldamin)"
   ]
  },
  {
   "cell_type": "code",
   "execution_count": 25,
   "id": "db9c2ceb",
   "metadata": {},
   "outputs": [],
   "source": [
    "image_file = '../../data/PSF_image_test.fits'"
   ]
  },
  {
   "cell_type": "code",
   "execution_count": 26,
   "id": "3a08fe82",
   "metadata": {},
   "outputs": [
    {
     "name": "stdout",
     "output_type": "stream",
     "text": [
      "initialize ...\n",
      "open event file '../../data/event_list_for_PSF.evt' ...\n",
      "Given file is not a standard Event File, trying to read it as TES Event File...\n",
      "open TES event file '../../data/event_list_for_PSF.evt' ...\n",
      "finished successfully!\n",
      "\n"
     ]
    },
    {
     "data": {
      "text/plain": [
       "0"
      ]
     },
     "execution_count": 26,
     "metadata": {},
     "output_type": "execute_result"
    }
   ],
   "source": [
    "subprocess.check_call([\"imgev\",\n",
    "                            \"EvtFile=\"+eventfile,\n",
    "                            \"Image=\"+image_file,\n",
    "                            \"NAXIS1=58\",\"NAXIS2=58\",\n",
    "                            \"CRVAL1=0.0\",\"CRVAL2=0.0\",\n",
    "                           \"CRPIX1=29.\",\"CRPIX2=29.\",\n",
    "                           \"CDELT1=-%.15f\" %(aminconv/60.),\n",
    "                           \"CDELT2=%.15f\" %(aminconv/60.),\n",
    "                           \"CoordinateSystem=0\",\n",
    "                           \"Projection=TAN\",\n",
    "                           \"CUNIT1=deg\",\n",
    "                           \"CUNIT2=deg\"])"
   ]
  },
  {
   "cell_type": "markdown",
   "id": "690a4e55",
   "metadata": {},
   "source": [
    "## Image of the PSF"
   ]
  },
  {
   "cell_type": "markdown",
   "id": "c17e6e54",
   "metadata": {},
   "source": [
    "In log10"
   ]
  },
  {
   "cell_type": "code",
   "execution_count": 32,
   "id": "0574e017",
   "metadata": {},
   "outputs": [
    {
     "name": "stderr",
     "output_type": "stream",
     "text": [
      "/tmp/ipykernel_8195/1135695734.py:1: RuntimeWarning: divide by zero encountered in log10\n",
      "  plt.imshow(np.log10(fits.getdata('../../data/PSF_image_test.fits')), cmap = cmr.ember)\n"
     ]
    },
    {
     "data": {
      "text/plain": [
       "<matplotlib.colorbar.Colorbar at 0x154430eae470>"
      ]
     },
     "execution_count": 32,
     "metadata": {},
     "output_type": "execute_result"
    },
    {
     "data": {
      "image/png": "[encoded data removed]",
      "text/plain": [
       "<Figure size 640x480 with 2 Axes>"
      ]
     },
     "metadata": {},
     "output_type": "display_data"
    }
   ],
   "source": [
    "plt.imshow(np.log10(fits.getdata('../../data/PSF_image_test.fits')), cmap = cmr.ember)\n",
    "plt.colorbar(label = 'log10 counts')"
   ]
  },
  {
   "cell_type": "markdown",
   "id": "d643e091",
   "metadata": {},
   "source": [
    "Natural"
   ]
  },
  {
   "cell_type": "code",
   "execution_count": 33,
   "id": "2008b48f",
   "metadata": {},
   "outputs": [
    {
     "data": {
      "text/plain": [
       "<matplotlib.colorbar.Colorbar at 0x154430d6f8e0>"
      ]
     },
     "execution_count": 33,
     "metadata": {},
     "output_type": "execute_result"
    },
    {
     "data": {
      "image/png": "[encoded data removed]",
      "text/plain": [
       "<Figure size 640x480 with 2 Axes>"
      ]
     },
     "metadata": {},
     "output_type": "display_data"
    }
   ],
   "source": [
    "plt.imshow(fits.getdata('../../data/PSF_image_test.fits'), cmap = cmr.ember)\n",
    "plt.colorbar(label = 'counts')"
   ]
  }
 ],
 "metadata": {
  "kernelspec": {
   "display_name": "Python 3 (ipykernel)",
   "language": "python",
   "name": "python3"
  },
  "language_info": {
   "codemirror_mode": {
    "name": "ipython",
    "version": 3
   },
   "file_extension": ".py",
   "mimetype": "text/x-python",
   "name": "python",
   "nbconvert_exporter": "python",
   "pygments_lexer": "ipython3",
   "version": "3.10.12"
  }
 },
 "nbformat": 4,
 "nbformat_minor": 5
}
